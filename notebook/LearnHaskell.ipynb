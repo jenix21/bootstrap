{
 "metadata": {
  "language": "haskell",
  "name": "",
  "signature": "sha256:136941f78a51d95eb11fbe596c0597ce0699ad185c8042302dc82ef2995e7d77"
 },
 "nbformat": 3,
 "nbformat_minor": 0,
 "worksheets": [
  {
   "cells": [
    {
     "cell_type": "code",
     "collapsed": false,
     "input": [
      "head' :: [a] -> a\n",
      "head' [] = error \"No head for empty list\"\n",
      "head' (x:_) = x\n",
      "\n",
      "head' [1, 2]"
     ],
     "language": "python",
     "metadata": {},
     "outputs": [
      {
       "metadata": {},
       "output_type": "display_data",
       "text": [
        "1"
       ]
      }
     ],
     "prompt_number": 2
    },
    {
     "cell_type": "code",
     "collapsed": false,
     "input": [
      "head' :: [a] -> a\n",
      "head' xs = case xs of [] -> error \"No empty list\"\n",
      "                      (x:_) -> x\n",
      "head' [3, 4]"
     ],
     "language": "python",
     "metadata": {},
     "outputs": [
      {
       "metadata": {},
       "output_type": "display_data",
       "text": [
        "3"
       ]
      }
     ],
     "prompt_number": 5
    },
    {
     "cell_type": "code",
     "collapsed": false,
     "input": [
      "describeList :: [a] -> String\n",
      "describeList ls = \"The list is \" ++ what ls\n",
      "    where what [] = \"empty\"\n",
      "          what [x] = \"one\"\n",
      "          what xs = \"long\"\n",
      "\n",
      "describeList \"a\""
     ],
     "language": "python",
     "metadata": {},
     "outputs": [
      {
       "metadata": {},
       "output_type": "display_data",
       "text": [
        "\"The list is one\""
       ]
      }
     ],
     "prompt_number": 6
    },
    {
     "cell_type": "code",
     "collapsed": false,
     "input": [
      "x :: Integer\n",
      "x = (1::Integer) + (1::Integer) :: Integer"
     ],
     "language": "python",
     "metadata": {},
     "outputs": [],
     "prompt_number": 7
    },
    {
     "cell_type": "code",
     "collapsed": false,
     "input": [
      "add :: Integer -> (Integer -> Integer)\n",
      "add arg1 arg2 = arg1 + arg2\n",
      "(add 1) 4"
     ],
     "language": "python",
     "metadata": {},
     "outputs": [
      {
       "html": [
        " <div class=\"suggestion-name\" style=\"clear:both;\">Redundant bracket</div>  <div class=\"suggestion-row\" style=\"float: left;\"> <div class=\"suggestion-warning\">Found:</div>  <div class=\"highlight-code\" id=\"haskell\">(add 1) 4</div> </div>  <div class=\"suggestion-row\" style=\"float: left;\"> <div class=\"suggestion-warning\">Why Not:</div>  <div class=\"highlight-code\" id=\"haskell\">add 1 4</div> </div> "
       ],
       "metadata": {},
       "output_type": "display_data",
       "text": [
        "Line 1: Redundant bracket\n",
        "Found:\n",
        "(add 1) 4\n",
        "Why not:\n",
        "add 1 4"
       ]
      },
      {
       "metadata": {},
       "output_type": "display_data",
       "text": [
        "5"
       ]
      }
     ],
     "prompt_number": 9
    },
    {
     "cell_type": "code",
     "collapsed": false,
     "input": [
      "data Point = Point Double Double deriving Show\n",
      "\n",
      "data Color = Red | Green | Blue | Violet deriving (Show, Eq, Enum)\n",
      "\n",
      "getX, getMaxCoord :: Point -> Double\n",
      "getX point = case point of \n",
      "              Point x y -> x\n",
      "getMaxCoord (Point x y) | x > y = x\n",
      "                        | otherwise = y\n"
     ],
     "language": "python",
     "metadata": {},
     "outputs": [],
     "prompt_number": 17
    },
    {
     "cell_type": "code",
     "collapsed": false,
     "input": [
      "data Move = Rock | Paper | Scissors deriving (Eq, Read, Show, Enum, Bounded)\n",
      "data Outcome = Lose | Tie | Win deriving (Show, Eq, Ord)\n",
      "\n",
      "-- / @outcome our_move their_move@\n",
      "outcome :: Move -> Move -> Outcome\n",
      "outcome Rock Scissors = Win\n",
      "outcome Paper Rock = Win\n",
      "outcome Scissors Paper = Win\n",
      "outcome us them | us == them = Tie\n",
      "                | otherwise = Lose\n",
      "\n",
      "outcome Rock Rock"
     ],
     "language": "python",
     "metadata": {},
     "outputs": [
      {
       "metadata": {},
       "output_type": "display_data",
       "text": [
        "Tie"
       ]
      }
     ],
     "prompt_number": 19
    },
    {
     "cell_type": "code",
     "collapsed": false,
     "input": [
      "-- http://www.scs.stanford.edu/14sp-cs240h/slides/basics-slides.html#(19)\n",
      "isJust :: Maybe a -> Bool\n",
      "isJust (Just _) = True\n",
      "isJust Nothing = False"
     ],
     "language": "python",
     "metadata": {
      "hidden": false
     },
     "outputs": [],
     "prompt_number": 20
    },
    {
     "cell_type": "code",
     "collapsed": false,
     "input": [
      "addMaybes mx my | Just x <- mx, Just y <- my = Just (x + y)\n",
      "addMaybes _ _ = Nothing"
     ],
     "language": "python",
     "metadata": {},
     "outputs": [],
     "prompt_number": 22
    },
    {
     "cell_type": "code",
     "collapsed": false,
     "input": [
      "addMaybes (Just x) (Just y) = Just (x + y)\n",
      "addMaybes _ _ = Nothing"
     ],
     "language": "python",
     "metadata": {},
     "outputs": [],
     "prompt_number": 23
    },
    {
     "cell_type": "code",
     "collapsed": false,
     "input": [
      "quicksort :: (Ord a) => [a] -> [a]\n",
      "quicksort [] = []\n",
      "quicksort (x:xs) =\n",
      "    let smallerOrEqual = [a | a <- xs, a <= x]\n",
      "        larger = [a | a <- xs, a > x]\n",
      "    in quicksort smallerOrEqual ++ [x] ++ quicksort larger\n",
      "\n",
      "quicksort [10, 2, 5]\n",
      "\n",
      "-- http://shuklan.com/haskell/lec01.html#/0/23\n",
      "qsort :: (Ord a) => [a] -> [a]\n",
      "qsort [] = []\n",
      "qsort (p:xs) = (qsort lesser) ++ [p] ++ (qsort greater)\n",
      "    where\n",
      "        lesser  = filter (< p) xs\n",
      "        greater = filter (>= p) xs\n",
      "\n",
      "qsort [10, 2, 5]"
     ],
     "language": "python",
     "metadata": {
      "hidden": false
     },
     "outputs": [
      {
       "metadata": {},
       "output_type": "display_data",
       "text": [
        "[2,5,10]"
       ]
      },
      {
       "metadata": {},
       "output_type": "display_data",
       "text": [
        "[2,5,10]"
       ]
      }
     ],
     "prompt_number": 46
    },
    {
     "cell_type": "code",
     "collapsed": false,
     "input": [
      "zipWith' :: (a -> b -> c) -> [a] -> [b] -> [c]\n",
      "zipWith' _ [] _ = []\n",
      "zipWith' _ _ [] = []\n",
      "zipWith' f (x:xs) (y:ys) = f x y : zipWith' f xs ys\n",
      "\n",
      "zipWith' (+) [4, 2, 5, 6] [2, 6, 2, 3]"
     ],
     "language": "python",
     "metadata": {},
     "outputs": [
      {
       "metadata": {},
       "output_type": "display_data",
       "text": [
        "[6,8,7,9]"
       ]
      }
     ],
     "prompt_number": 1
    },
    {
     "cell_type": "code",
     "collapsed": false,
     "input": [
      "largestDivisible :: Integer\n",
      "largestDivisible = head (filter p [10000, 9999..])\n",
      "            where p x = x `mod` 3829 == 0"
     ],
     "language": "python",
     "metadata": {},
     "outputs": [],
     "prompt_number": 8
    },
    {
     "cell_type": "code",
     "collapsed": false,
     "input": [
      "chain :: Integer -> [Integer]\n",
      "chain 1 = [1]\n",
      "chain n\n",
      "    | even n = n:chain(n `div` 2)\n",
      "    | odd n = n:chain(n * 3 + 1)\n",
      "chain 10"
     ],
     "language": "python",
     "metadata": {},
     "outputs": [
      {
       "metadata": {},
       "output_type": "display_data",
       "text": [
        "[10,5,16,8,4,2,1]"
       ]
      }
     ],
     "prompt_number": 9
    },
    {
     "cell_type": "code",
     "collapsed": false,
     "input": [
      "numLongChains :: Int\n",
      "numLongChains = length (filter isLong (map chain [1..100]))\n",
      "    where isLong xs = length xs > 15\n",
      "numLongChains"
     ],
     "language": "python",
     "metadata": {},
     "outputs": [
      {
       "metadata": {},
       "output_type": "display_data",
       "text": [
        "66"
       ]
      }
     ],
     "prompt_number": 12
    },
    {
     "cell_type": "code",
     "collapsed": false,
     "input": [
      "let listOfFuns = map (*) [0..]\n",
      "(listOfFuns !! 4) 5"
     ],
     "language": "python",
     "metadata": {},
     "outputs": [
      {
       "metadata": {},
       "output_type": "display_data",
       "text": [
        "20"
       ]
      }
     ],
     "prompt_number": 15
    },
    {
     "cell_type": "code",
     "collapsed": false,
     "input": [
      "sum' :: (Num a) => [a] -> a\n",
      "sum' = foldl (+) 0\n",
      "sum' [3, 2, 1]"
     ],
     "language": "python",
     "metadata": {},
     "outputs": [
      {
       "html": [
        " <div class=\"suggestion-name\" style=\"clear:both;\">Use sum</div>  <div class=\"suggestion-row\" style=\"float: left;\"> <div class=\"suggestion-error\">Found:</div>  <div class=\"highlight-code\" id=\"haskell\">foldl (+) 0</div> </div>  <div class=\"suggestion-row\" style=\"float: left;\"> <div class=\"suggestion-error\">Why Not:</div>  <div class=\"highlight-code\" id=\"haskell\">sum</div> </div> "
       ],
       "metadata": {},
       "output_type": "display_data",
       "text": [
        "Line 2: Use sum\n",
        "Found:\n",
        "foldl (+) 0\n",
        "Why not:\n",
        "sum"
       ]
      },
      {
       "metadata": {},
       "output_type": "display_data",
       "text": [
        "6"
       ]
      }
     ],
     "prompt_number": 21
    },
    {
     "cell_type": "code",
     "collapsed": false,
     "input": [
      "-- 79p, right fold.\n",
      "map' :: (a -> b) -> [a] -> [b]\n",
      "map' f xs = foldr (\\x acc -> f x : acc) [] xs\n",
      "map' (+3) [1, 2, 3]\n",
      "\n",
      "-- map with left fold. not efficient. ++ is slow than :\n",
      "map'' :: (a -> b) -> [a] -> [b]\n",
      "map'' f xs = foldl (\\acc x -> acc ++ [f x]) [] xs\n",
      "map'' (+4) [1, 2, 3]"
     ],
     "language": "python",
     "metadata": {
      "hidden": false
     },
     "outputs": [
      {
       "metadata": {},
       "output_type": "display_data",
       "text": [
        "[4,5,6]"
       ]
      },
      {
       "metadata": {},
       "output_type": "display_data",
       "text": [
        "[5,6,7]"
       ]
      }
     ],
     "prompt_number": 1
    },
    {
     "cell_type": "code",
     "collapsed": false,
     "input": [
      "-- 96p, implements 'isInfixOf'\n",
      "import Data.List\n",
      "isIn :: (Eq a) => [a] -> [a] -> Bool\n",
      "needle `isIn` haystack = any (needle `isPrefixOf`) (tails haystack)\n",
      "\"art\" `isIn` \"party\"\n",
      "\n",
      "-- cihper\n",
      "import Data.Char\n",
      "encode :: Int -> String -> String\n",
      "encode offset msg = map (\\c -> chr $ ord c + offset) msg\n",
      "encode 3 \"hey mark\"\n",
      "\n",
      "decode :: Int -> String -> String\n",
      "decode shift msg = encode (negate shift) msg\n",
      "decode 3 \"kh|#pdun\""
     ],
     "language": "python",
     "metadata": {},
     "outputs": [
      {
       "metadata": {},
       "output_type": "display_data",
       "text": [
        "True"
       ]
      },
      {
       "metadata": {},
       "output_type": "display_data",
       "text": [
        "\"kh|#pdun\""
       ]
      },
      {
       "metadata": {},
       "output_type": "display_data",
       "text": [
        "\"hey mark\""
       ]
      }
     ],
     "prompt_number": 5
    },
    {
     "cell_type": "code",
     "collapsed": false,
     "input": [
      "-- 100p, find number which sum is 60 at first.\n",
      "import Data.Char\n",
      "import Data.List\n",
      "\n",
      "digitSum :: Int -> Int\n",
      "digitSum = sum . map digitToInt . show\n",
      "digitSum 456\n",
      "\n",
      "-- 102p\n",
      "firstTo :: Int -> Maybe Int\n",
      "firstTo n = find (\\x -> digitSum x == n) [1..]\n",
      "firstTo 27"
     ],
     "language": "python",
     "metadata": {
      "hidden": false
     },
     "outputs": [
      {
       "metadata": {},
       "output_type": "display_data",
       "text": [
        "15"
       ]
      },
      {
       "metadata": {},
       "output_type": "display_data",
       "text": [
        "Just 999"
       ]
      }
     ],
     "prompt_number": 1
    },
    {
     "cell_type": "code",
     "collapsed": false,
     "input": [
      "phoneBook = [(\"betty\", \"555-2938\"), (\"penny\", \"445-1933\")]\n",
      "-- 103p\n",
      "findKey :: (Eq k) => k -> [(k, v)] -> v\n",
      "findKey key xs = snd . head . filter (\\(k, v) -> key == k) $ xs\n",
      "findKey \"betty\" phoneBook\n",
      "\n",
      "findKey' :: (Eq k) => k -> [(k,v)] -> Maybe v  \n",
      "findKey' key [] = Nothing  \n",
      "findKey' key ((k,v):xs) = if key == k  \n",
      "                            then Just v  \n",
      "                            else findKey' key xs  \n",
      "findKey' \"betty\" phoneBook\n",
      "\n",
      "-- consider not found case.\n",
      "findKey'' :: (Eq k) => k -> [(k, v)] -> Maybe v\n",
      "findKey'' key [] = Nothing\n",
      "findkey'' key ((k, v):xs)\n",
      "        | key == k = Just v\n",
      "        | otherwise = findKey' key xs\n",
      "--error: findKey'' \"betty\" phoneBook        \n",
      "\n",
      "findKey''' :: (Eq k) => k -> [(k,v)] -> Maybe v  \n",
      "findKey''' key = foldr (\\(k,v) acc -> if key == k then Just v else acc) Nothing\n",
      "findKey''' \"penny\" phoneBook\n",
      "-- acc is Nothing."
     ],
     "language": "python",
     "metadata": {
      "hidden": false
     },
     "outputs": [
      {
       "metadata": {},
       "output_type": "display_data",
       "text": [
        "\"555-2938\""
       ]
      },
      {
       "metadata": {},
       "output_type": "display_data",
       "text": [
        "Just \"555-2938\""
       ]
      },
      {
       "metadata": {},
       "output_type": "display_data",
       "text": [
        "Just \"445-1933\""
       ]
      }
     ],
     "prompt_number": 19
    },
    {
     "cell_type": "code",
     "collapsed": false,
     "input": [
      "import qualified Data.Map as Map\n",
      "\n",
      "-- 105p Data.Map\n",
      "phoneBook :: Map.Map String String\n",
      "phoneBook = Map.fromList [(\"betty\", \"555-1234\"), (\"betty\", \"12345\")]\n",
      "Map.lookup \"betty\" phoneBook\n",
      "\n",
      "Map.size phoneBook -- size\n",
      "\n",
      "-- 106p Map.insert\n",
      "Map.lookup \"grace\" phoneBook\n",
      "let newBook = Map.insert \"grace\" \"341-9021\" phoneBook\n",
      "Map.lookup \"grace\" newBook\n",
      "\n",
      "pb = [(\"betty\", \"555-1234\"), (\"betty\", \"12345\")]\n",
      "-- 107p, handling key dup.\n",
      "phoneBookToMap :: (Ord k) => [(k, String)] -> Map.Map k String  \n",
      "phoneBookToMap = Map.fromListWith (\\number1 number2 -> number1 ++ \", \" ++ number2)\n",
      "Map.lookup \"betty\" $ phoneBookToMap pb"
     ],
     "language": "python",
     "metadata": {
      "hidden": false
     },
     "outputs": [
      {
       "metadata": {},
       "output_type": "display_data",
       "text": [
        "Just \"12345\""
       ]
      },
      {
       "metadata": {},
       "output_type": "display_data",
       "text": [
        "1"
       ]
      },
      {
       "metadata": {},
       "output_type": "display_data",
       "text": [
        "Nothing"
       ]
      },
      {
       "metadata": {},
       "output_type": "display_data",
       "text": [
        "Just \"341-9021\""
       ]
      },
      {
       "metadata": {},
       "output_type": "display_data",
       "text": [
        "Just \"12345, 555-1234\""
       ]
      }
     ],
     "prompt_number": 44
    },
    {
     "cell_type": "code",
     "collapsed": false,
     "input": [],
     "language": "python",
     "metadata": {
      "hidden": false
     },
     "outputs": []
    }
   ],
   "metadata": {}
  }
 ]
}